{
 "cells": [
  {
   "cell_type": "code",
   "execution_count": 7,
   "metadata": {},
   "outputs": [],
   "source": [
    "from __future__ import print_function\n",
    "import ROOT"
   ]
  },
  {
   "cell_type": "code",
   "execution_count": 8,
   "metadata": {},
   "outputs": [
    {
     "name": "stdout",
     "output_type": "stream",
     "text": [
      "## RDFAnalyzer.cc ##\n",
      "Data frame created.\n"
     ]
    }
   ],
   "source": [
    "print(\"## RDFAnalyzer.cc ##\")\n",
    "\n",
    "input_files_vec = ROOT.std.vector(\"string\")()\n",
    "input_files_list = [ \n",
    "\"/eos/user/v/vpadulan/SWAN_projects/totem_karol_data/cmstotem_small_ds/FEBCB07E-7A3C-E911-B10C-D4AE52901D66.root\",\n",
    "\"/eos/user/v/vpadulan/SWAN_projects/totem_karol_data/cmstotem_small_ds/FCA19DF8-083C-E911-A2D2-A0369FF882E0.root\",\n",
    "\"/eos/user/v/vpadulan/SWAN_projects/totem_karol_data/cmstotem_small_ds/FC01E8C7-113C-E911-8B2E-842B2B6E9A5B.root\",\n",
    "\"/eos/user/v/vpadulan/SWAN_projects/totem_karol_data/cmstotem_small_ds/FAF762D0-123C-E911-9D1A-90B11C441C8C.root\",\n",
    "\"/eos/user/v/vpadulan/SWAN_projects/totem_karol_data/cmstotem_small_ds/FA4A1FD6-073C-E911-B139-0025901C0610.root\",\n",
    "\"/eos/user/v/vpadulan/SWAN_projects/totem_karol_data/cmstotem_small_ds/FA156168-093C-E911-8D29-003048F7CC92.root\",\n",
    "\"/eos/user/v/vpadulan/SWAN_projects/totem_karol_data/cmstotem_small_ds/FA09E569-803C-E911-90AC-842B2B6AEC35.root\",\n",
    "\"/eos/user/v/vpadulan/SWAN_projects/totem_karol_data/cmstotem_small_ds/F88E98FA-7C3C-E911-9FD8-008CFA110B10.root\",\n",
    "\"/eos/user/v/vpadulan/SWAN_projects/totem_karol_data/cmstotem_small_ds/F6DE1B98-093C-E911-BB8A-0CC47AD98B8E.root\",\n",
    "\"/eos/user/v/vpadulan/SWAN_projects/totem_karol_data/cmstotem_small_ds/F69F07CE-123C-E911-9182-1866DA7F7AD2.root\"\n",
    "]\n",
    "for infile in input_files_list:\n",
    "    input_files_vec.push_back(infile)\n",
    "    \n",
    "d_loaded = ROOT.RDataFrame(\"Events\", input_files_vec)\n",
    "d_in = d_loaded.Range(1000)\n",
    "\n",
    "print(\"Data frame created.\")"
   ]
  },
  {
   "cell_type": "code",
   "execution_count": 9,
   "metadata": {},
   "outputs": [
    {
     "name": "stdout",
     "output_type": "stream",
     "text": [
      "Processing BeamSpot...\n",
      "1000\n"
     ]
    }
   ],
   "source": [
    "# ------------------\n",
    "# BEAMSPOT \n",
    "# ------------------\n",
    "\n",
    "print(\"Processing BeamSpot...\")\n",
    "\n",
    "d_beamspot_processed = d_in.Define(\"beamspot\", \"recoBeamSpot_offlineBeamSpot__RECO.obj\")\\\n",
    "                           .Define(\"xBS\", \"beamspot.x0()\")\\\n",
    "                           .Define(\"yBS\", \"beamspot.y0()\")\\\n",
    "                           .Define(\"zBS\", \"beamspot.z0()\")\\\n",
    "                           .Define(\"bs_point\", \"math::XYZPoint(xBS, yBS, zBS)\")\n",
    "print(d_beamspot_processed.Count().GetValue())"
   ]
  },
  {
   "cell_type": "code",
   "execution_count": null,
   "metadata": {},
   "outputs": [],
   "source": []
  },
  {
   "cell_type": "code",
   "execution_count": 10,
   "metadata": {},
   "outputs": [
    {
     "name": "stdout",
     "output_type": "stream",
     "text": [
      "Processing Tracks...\n",
      "Tracks count: 681\n"
     ]
    }
   ],
   "source": [
    "# ------------------\n",
    "# TRACKS \n",
    "# ------------------\n",
    "\n",
    "print(\"Processing Tracks...\")\n",
    "\n",
    "def nhits_filter(obj):\n",
    "    nhits_filter_lambda = \"\"\"\n",
    "    using namespace reco;\n",
    "    using namespace ROOT::VecOps;\n",
    "    auto nhits_filter = [](Track tr)\n",
    "    {{\n",
    "        return tr.hitPattern().numberOfValidPixelHits() > 0;\n",
    "    }};\n",
    "    auto tracks_filter = [&nhits_filter](RVec<Track> v)\n",
    "    {{\n",
    "        return Filter(v, nhits_filter);\n",
    "    }};\n",
    "    return tracks_filter({});\n",
    "    \"\"\".format(obj)\n",
    "    return nhits_filter_lambda\n",
    "\n",
    "d_tracks = d_beamspot_processed.Define(\"all_tracks\", \"recoTracks_generalTracks__RECO.obj\")\\\n",
    "                               .Filter(\"! all_tracks.empty()\")\\\n",
    "                               .Define(\"tracks\", nhits_filter(\"all_tracks\"))\\\n",
    "                               .Filter(\"! tracks.empty()\")\n",
    "ROOT.gInterpreter.Declare(\"\"\"\n",
    "using namespace reco;\n",
    "using namespace ROOT::VecOps;\n",
    "\"\"\")\n",
    "\n",
    "d_tracks_processed = d_tracks\\\n",
    ".Define(\"hpt\",    \"return Map(tracks, [](const Track& tr) { return tr.pt(); });\")\\\n",
    ".Define(\"heta\",   \"return Map(tracks, [](const Track& tr) { return tr.eta(); });\")\\\n",
    ".Define(\"hphi\",   \"return Map(tracks, [](const Track& tr) { return tr.phi(); });\")\\\n",
    ".Define(\"halgo\",  \"return Map(tracks, [](const Track& tr) { return tr.algo(); });\")\\\n",
    ".Define(\"hnhits\", \"return Map(tracks, [](const Track& tr) { return tr.hitPattern().numberOfValidPixelHits(); });\")\\\n",
    ".Define(\"hchi2\",  \"return Map(tracks, [](const Track& tr) { return tr.normalizedChi2(); });\")\\\n",
    ".Define(\"hd0\",    \"return Map(tracks, [](const Track& tr) { return tr.d0(); });\")\\\n",
    ".Define(\"hdz\",    \"return Map(tracks, [](const Track& tr) { return tr.dz(); });\")\\\n",
    ".Define(\"hd0BS\",  \"return Map(tracks, [&bs_point](const Track& tr) { return tr.dxy(bs_point); });\")\\\n",
    ".Define(\"hdzBS\",  \"return Map(tracks, [&bs_point](const Track& tr) { return tr.dz(bs_point);  });\")\n",
    "# /* TODO: debug something here in this looper\n",
    "# .Define(\"hlooper\",[](RVec<Track> v) { return Map(v, [](Track tr){ return tr.isLooper(); }); }, { \"tracks\" })\n",
    "# */\n",
    "\n",
    "nbins_pt = 100\n",
    "nbins_eta = 80\n",
    "nbins_phi = 64\n",
    "\n",
    "h_pt = d_tracks_processed.Histo1D((\"hpt\", \"p_{T}\", nbins_pt, 0, 5), \"hpt\")\n",
    "h_eta = d_tracks_processed.Histo1D((\"heta\", \"#eta\", nbins_eta, -4, 4), \"heta\")\n",
    "h_phi = d_tracks_processed.Histo1D((\"hphi\", \"#varphi\", nbins_phi, -3.2, 3.2), \"hphi\")\n",
    "h_algo = d_tracks_processed.Histo1D((\"halgo\", \"Algo\", 15, 0, 15.), \"halgo\")\n",
    "h_nhits = d_tracks_processed.Histo1D((\"hnhits\", \"nhits pix+strip\", 40, 0, 40.), \"hnhits\")\n",
    "\n",
    "h_chi2 = d_tracks_processed.Histo1D((\"hchi2\", \"normalized #chi^{2}\", 1050, -50, 1000.), \"hchi2\")\n",
    "h_d0 = d_tracks_processed.Histo1D((\"hd0\", \"d0\", 2000, -10, 10.), \"hd0\")\n",
    "h_dz = d_tracks_processed.Histo1D((\"hdz\", \"dz\", 500, -100, 100.), \"hdz\")\n",
    "\n",
    "h_d0BS = d_tracks_processed.Histo1D((\"hd0BS\", \"d0\", 2000, -10, 10.), \"hd0BS\")\n",
    "h_dzBS = d_tracks_processed.Histo1D((\"hdzBS\", \"dz\", 500, -100, 100.), \"hdzBS\")\n",
    "# /*\n",
    "# auto h_looper = d_tracks_processed.Histo1D({\"hlooper\", \"isLooper\", 5, 0, 5}, \"hlooper\");\n",
    "# */\n",
    "\n",
    "\n",
    "print(\"Tracks count: {}\".format(d_tracks_processed.Count().GetValue()))"
   ]
  },
  {
   "cell_type": "code",
   "execution_count": 5,
   "metadata": {},
   "outputs": [
    {
     "name": "stdout",
     "output_type": "stream",
     "text": [
      "Saving results to out_rdf.root\n"
     ]
    },
    {
     "data": {
      "text/plain": [
       "727"
      ]
     },
     "execution_count": 5,
     "metadata": {},
     "output_type": "execute_result"
    }
   ],
   "source": [
    "# ------------------\n",
    "# SAVE OUTPUT \n",
    "# ------------------\n",
    "\n",
    "fout_name = \"out_rdf.root\"\n",
    "print(\"Saving results to {}\".format(fout_name))\n",
    "fout = ROOT.TFile(fout_name, \"RECREATE\")\n",
    "fout.cd()\n",
    "\n",
    "#  Tracks\n",
    "h_pt.Write()\n",
    "h_eta.Write()\n",
    "h_phi.Write()\n",
    "h_algo.Write()\n",
    "h_nhits.Write()\n",
    "\n",
    "h_chi2.Write()\n",
    "h_d0.Write()\n",
    "h_dz.Write()\n",
    "\n",
    "h_d0BS.Write()\n",
    "h_dzBS.Write()"
   ]
  },
  {
   "cell_type": "code",
   "execution_count": 6,
   "metadata": {},
   "outputs": [],
   "source": [
    "# ------------------\n",
    "# DRAW AN HISTOGRAM\n",
    "# ------------------\n",
    "\n",
    "c = ROOT.TCanvas()\n",
    "h_pt.Draw()\n",
    "c.SaveAs(\"h_pt.png\")"
   ]
  },
  {
   "cell_type": "code",
   "execution_count": null,
   "metadata": {},
   "outputs": [],
   "source": []
  }
 ],
 "metadata": {
  "kernelspec": {
   "display_name": "Python 2",
   "language": "python",
   "name": "python2"
  },
  "language_info": {
   "codemirror_mode": {
    "name": "ipython",
    "version": 2
   },
   "file_extension": ".py",
   "mimetype": "text/x-python",
   "name": "python",
   "nbconvert_exporter": "python",
   "pygments_lexer": "ipython2",
   "version": "2.7.14+"
  },
  "sparkconnect": {
   "bundled_options": [],
   "list_of_options": [
    {
     "name": "spark.executorEnv.LD_LIBRARY_PATH",
     "value": "{LD_LIBRARY_PATH}"
    }
   ]
  }
 },
 "nbformat": 4,
 "nbformat_minor": 2
}
